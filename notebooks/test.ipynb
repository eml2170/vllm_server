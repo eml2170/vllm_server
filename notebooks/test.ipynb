{
 "cells": [
  {
   "cell_type": "code",
   "execution_count": null,
   "id": "1b5e240f-36d7-4e8c-ba16-ecbabe512da7",
   "metadata": {},
   "outputs": [],
   "source": [
    "from transformers import AutoTokenizer, AutoModelForCausalLM"
   ]
  },
  {
   "cell_type": "code",
   "execution_count": null,
   "id": "df4e6f68-be46-4f00-853c-746a6e1cee0a",
   "metadata": {},
   "outputs": [],
   "source": [
    "import os\n",
    "os.environ[\"HF_TOKEN\"] = \"\""
   ]
  },
  {
   "cell_type": "code",
   "execution_count": null,
   "id": "374d9d57-9c69-4501-a49a-538c5562206a",
   "metadata": {},
   "outputs": [],
   "source": [
    "tokenizer = AutoTokenizer.from_pretrained(\"google/gemma-2b\")\n",
    "model = AutoModelForCausalLM.from_pretrained(\"google/gemma-2b\")"
   ]
  },
  {
   "cell_type": "code",
   "execution_count": null,
   "id": "942a9aa0-e55a-4f1e-b1fc-a2946ba390b0",
   "metadata": {},
   "outputs": [],
   "source": [
    "clinical_note = \"Patient is a 67-year-old male presenting to the emergency department with a three-day history of productive cough, fever of 38.7°C, and difficulty breathing. He has a past medical history significant for type 2 diabetes mellitus and hypertension. Chest X-ray reveals right lower lobe infiltrate suggestive of pneumonia. He is started on IV antibiotics and supplemental oxygen.\"\n",
    "prompt = f\"Extract the diagnoses from the following clinical note:\\n{clinical_note}\\n\\nDiagnoses:\"\n",
    "input_ids = tokenizer(prompt, return_tensors=\"pt\")\n",
    "\n",
    "outputs = model.generate(**input_ids)"
   ]
  },
  {
   "cell_type": "code",
   "execution_count": null,
   "id": "0ad43d47-068e-44ef-8c4b-9a3b1bdae781",
   "metadata": {},
   "outputs": [],
   "source": [
    "generated_text = tokenizer.decode(outputs[0], skip_special_tokens=True)\n",
    "diagnoses_text = generated_text.split(\"Diagnoses:\")[-1].strip()\n",
    "diagnoses = [dx.strip() for dx in diagnoses_text.replace(\";\", \"\\n\").replace(\",\", \"\\n\").split(\"\\n\") if dx.strip()]\n",
    "diagnoses"
   ]
  }
 ],
 "metadata": {
  "kernelspec": {
   "display_name": "Python 3 (ipykernel)",
   "language": "python",
   "name": "python3"
  },
  "language_info": {
   "codemirror_mode": {
    "name": "ipython",
    "version": 3
   },
   "file_extension": ".py",
   "mimetype": "text/x-python",
   "name": "python",
   "nbconvert_exporter": "python",
   "pygments_lexer": "ipython3",
   "version": "3.12.7"
  }
 },
 "nbformat": 4,
 "nbformat_minor": 5
}
